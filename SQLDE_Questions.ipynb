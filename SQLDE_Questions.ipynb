{
 "cells": [
  {
   "cell_type": "code",
   "execution_count": 0,
   "metadata": {
    "application/vnd.databricks.v1+cell": {
     "cellMetadata": {
      "byteLimit": 2048000,
      "rowLimit": 10000
     },
     "inputWidgets": {},
     "nuid": "4000a414-1daa-4b1d-b53b-d77dd12bb09f",
     "showTitle": false,
     "tableResultSettingsMap": {},
     "title": ""
    }
   },
   "outputs": [],
   "source": [
    "from pyspark.sql.functions import col, sum, avg, max\n",
    "from pyspark.sql.types import StructType,StructField, StringType, FloatType,DateType\n",
    "from datetime import datetime"
   ]
  },
  {
   "cell_type": "code",
   "execution_count": 0,
   "metadata": {
    "application/vnd.databricks.v1+cell": {
     "cellMetadata": {
      "byteLimit": 2048000,
      "rowLimit": 10000
     },
     "inputWidgets": {},
     "nuid": "3d784937-72a9-4fd0-a0da-27304fef5f79",
     "showTitle": false,
     "tableResultSettingsMap": {},
     "title": ""
    }
   },
   "outputs": [
    {
     "output_type": "stream",
     "name": "stdout",
     "output_type": "stream",
     "text": [
      "+--------+--------+----------+-------+\n|order_id|category| sale_date|revenue|\n+--------+--------+----------+-------+\n|       1|       A|2024-01-01|  100.0|\n|       2|       A|2024-01-02|  200.0|\n|       3|       A|2024-01-03|  300.0|\n|       4|       A|2024-01-04|  400.0|\n|       5|       B|2024-01-01|  150.0|\n|       6|       B|2024-01-02|  250.0|\n|       7|       B|2024-01-03|  350.0|\n|       8|       B|2024-01-04|  450.0|\n+--------+--------+----------+-------+\n\n"
     ]
    }
   ],
   "source": [
    "schema = StructType([ \\\n",
    "    StructField(\"order_id\",StringType(),True), \\\n",
    "    StructField(\"category\",StringType(),True), \\\n",
    "    StructField(\"sale_date\",DateType(),True), \\\n",
    "    StructField(\"revenue\", FloatType(), True)\n",
    "  ])\n",
    "\n",
    "sales_data = [\n",
    "('1','A',datetime.strptime(\"2024-01-01\",'%Y-%m-%d'),100.00),\n",
    "('2','A',datetime.strptime(\"2024-01-02\",'%Y-%m-%d'),200.00),\n",
    "('3','A',datetime.strptime(\"2024-01-03\",'%Y-%m-%d'),300.00),\n",
    "('4','A',datetime.strptime(\"2024-01-04\",'%Y-%m-%d'),400.00),\n",
    "('5','B',datetime.strptime(\"2024-01-01\",'%Y-%m-%d'),150.00),\n",
    "('6','B',datetime.strptime(\"2024-01-02\",'%Y-%m-%d'),250.00),\n",
    "('7','B',datetime.strptime(\"2024-01-03\",'%Y-%m-%d'),350.00),\n",
    "('8','B',datetime.strptime(\"2024-01-04\",'%Y-%m-%d'),450.00)\n",
    "]\n",
    "\n",
    "df_salesdata = spark.createDataFrame(sales_data, schema)\n",
    "df_salesdata.show()"
   ]
  },
  {
   "cell_type": "code",
   "execution_count": 0,
   "metadata": {
    "application/vnd.databricks.v1+cell": {
     "cellMetadata": {
      "byteLimit": 2048000,
      "rowLimit": 10000
     },
     "inputWidgets": {},
     "nuid": "15332fa6-efd6-4853-ac5b-fb4a157e7e5d",
     "showTitle": false,
     "tableResultSettingsMap": {},
     "title": ""
    }
   },
   "outputs": [],
   "source": [
    "df_salesdata.createOrReplaceTempView(\"salesdata\")"
   ]
  },
  {
   "cell_type": "code",
   "execution_count": 0,
   "metadata": {
    "application/vnd.databricks.v1+cell": {
     "cellMetadata": {
      "byteLimit": 2048000,
      "implicitDf": true,
      "rowLimit": 10000
     },
     "inputWidgets": {},
     "nuid": "ee519960-36d3-4b54-84fd-060fbf728a03",
     "showTitle": false,
     "tableResultSettingsMap": {},
     "title": ""
    }
   },
   "outputs": [
    {
     "output_type": "display_data",
     "data": {
      "text/html": [
       "<style scoped>\n",
       "  .table-result-container {\n",
       "    max-height: 300px;\n",
       "    overflow: auto;\n",
       "  }\n",
       "  table, th, td {\n",
       "    border: 1px solid black;\n",
       "    border-collapse: collapse;\n",
       "  }\n",
       "  th, td {\n",
       "    padding: 5px;\n",
       "  }\n",
       "  th {\n",
       "    text-align: left;\n",
       "  }\n",
       "</style><div class='table-result-container'><table class='table-result'><thead style='background-color: white'><tr><th>order_id</th><th>revenue</th><th>running_total</th><th>alt_running_total</th></tr></thead><tbody><tr><td>1</td><td>100.0</td><td>100.0</td><td>100.0</td></tr><tr><td>2</td><td>200.0</td><td>300.0</td><td>300.0</td></tr><tr><td>3</td><td>300.0</td><td>500.0</td><td>600.0</td></tr><tr><td>4</td><td>400.0</td><td>700.0</td><td>1000.0</td></tr><tr><td>5</td><td>150.0</td><td>550.0</td><td>1050.0</td></tr><tr><td>6</td><td>250.0</td><td>400.0</td><td>1100.0</td></tr><tr><td>7</td><td>350.0</td><td>600.0</td><td>1150.0</td></tr><tr><td>8</td><td>450.0</td><td>800.0</td><td>1200.0</td></tr></tbody></table></div>"
      ]
     },
     "metadata": {
      "application/vnd.databricks.v1+output": {
       "addedWidgets": {},
       "aggData": [],
       "aggError": "",
       "aggOverflow": false,
       "aggSchema": [],
       "aggSeriesLimitReached": false,
       "aggType": "",
       "arguments": {},
       "columnCustomDisplayInfos": {},
       "data": [
        [
         "1",
         100.0,
         100.0,
         100.0
        ],
        [
         "2",
         200.0,
         300.0,
         300.0
        ],
        [
         "3",
         300.0,
         500.0,
         600.0
        ],
        [
         "4",
         400.0,
         700.0,
         1000.0
        ],
        [
         "5",
         150.0,
         550.0,
         1050.0
        ],
        [
         "6",
         250.0,
         400.0,
         1100.0
        ],
        [
         "7",
         350.0,
         600.0,
         1150.0
        ],
        [
         "8",
         450.0,
         800.0,
         1200.0
        ]
       ],
       "datasetInfos": [],
       "dbfsResultPath": null,
       "isJsonSchema": true,
       "metadata": {},
       "overflow": false,
       "plotOptions": {
        "customPlotOptions": {},
        "displayType": "table",
        "pivotAggregation": null,
        "pivotColumns": null,
        "xColumns": null,
        "yColumns": null
       },
       "removedWidgets": [],
       "schema": [
        {
         "metadata": "{}",
         "name": "order_id",
         "type": "\"string\""
        },
        {
         "metadata": "{}",
         "name": "revenue",
         "type": "\"float\""
        },
        {
         "metadata": "{}",
         "name": "running_total",
         "type": "\"double\""
        },
        {
         "metadata": "{}",
         "name": "alt_running_total",
         "type": "\"double\""
        }
       ],
       "type": "table"
      }
     },
     "output_type": "display_data"
    }
   ],
   "source": [
    "%sql\n",
    "select order_id, revenue, sum(revenue) over(order by order_id\n",
    "  rows between 1 preceding and current row) as running_total\n",
    "  ,sum(revenue) over(order by order_id rows between 3 preceding and current row) as alt_running_total\n",
    "  from salesdata"
   ]
  },
  {
   "cell_type": "code",
   "execution_count": 0,
   "metadata": {
    "application/vnd.databricks.v1+cell": {
     "cellMetadata": {
      "byteLimit": 2048000,
      "rowLimit": 10000
     },
     "inputWidgets": {},
     "nuid": "a1119883-d432-4388-a8f3-805d2c1dfe64",
     "showTitle": false,
     "tableResultSettingsMap": {},
     "title": ""
    }
   },
   "outputs": [],
   "source": [
    "\n",
    "\n",
    "data = [\n",
    "    (1, 101, datetime.strptime(\"2023-07-01\",\"%Y-%m-%d\"), \"A\", 2.0, 10.0),\n",
    "    (2, 102, datetime.strptime(\"2023-11-01\",\"%Y-%m-%d\"), \"B\", 3.0, 15.0),\n",
    "    (3, 101, datetime.strptime(\"2023-09-01\",\"%Y-%m-%d\"), \"A\", 1.0, 10.0),\n",
    "    (4, 103, datetime.strptime(\"2023-07-02\",\"%Y-%m-%d\"), \"C\", 2.0, 20.0),\n",
    "    (5, 102, datetime.strptime(\"2023-09-01\",\"%Y-%m-%d\"), \"A\", 1.0, 10.0),\n",
    "\t(11, 6101, datetime.strptime(\"2023-07-04\",\"%Y-%m-%d\"), \"QA\", 72.0, 10.0),\n",
    "    (21, 6102, datetime.strptime(\"2023-07-05\",\"%Y-%m-%d\"), \"QB\", 73.0, 15.0),\n",
    "    (31, 6101, datetime.strptime(\"2023-07-06\",\"%Y-%m-%d\"), \"QA\", 71.0, 10.0),\n",
    "    (41, 6103, datetime.strptime(\"2023-07-07\",\"%Y-%m-%d\"), \"QC\", 72.0, 20.0),\n",
    "    (51, 6102, datetime.strptime(\"2023-07-08\",\"%Y-%m-%d\"), \"QA\", 71.0, 10.0),\n",
    "\t\n",
    "\t(71, 101, datetime.strptime(\"2023-11-01\",\"%Y-%m-%d\"), \"A\", 52.0, 10.0),\n",
    "    (72, 102, datetime.strptime(\"2023-08-01\",\"%Y-%m-%d\"), \"B\", 53.0, 15.0),\n",
    "    (73, 101, datetime.strptime(\"2023-05-01\",\"%Y-%m-%d\"), \"A\", 51.0, 10.0),\n",
    "    (74, 103, datetime.strptime(\"2023-08-02\",\"%Y-%m-%d\"), \"C\", 52.0, 20.0),\n",
    "    (75, 102, datetime.strptime(\"2023-10-01\",\"%Y-%m-%d\"), \"A\", 51.0, 10.0),\n",
    "\t(11, 6401, datetime.strptime(\"2023-08-04\",\"%Y-%m-%d\"), \"QA\", 572.0, 10.0),\n",
    "    (21, 6402, datetime.strptime(\"2023-07-05\",\"%Y-%m-%d\"), \"QB\", 573.0, 15.0),\n",
    "    (31, 6401, datetime.strptime(\"2023-07-06\",\"%Y-%m-%d\"), \"QA\", 571.0, 10.0),\n",
    "    (41, 6403, datetime.strptime(\"2023-07-07\",\"%Y-%m-%d\"), \"QC\", 572.0, 20.0),\n",
    "    (51, 6402, datetime.strptime(\"2023-07-08\",\"%Y-%m-%d\"), \"QA\", 571.0, 10.0)\n",
    "]\n",
    "\n",
    "columns = [\"order_id\", \"customer_id\", \"order_date\", \"product_id\", \"quantity\", \"price\"]\n",
    "schema = StructType([ \\\n",
    "    StructField(\"order_id\",StringType(),True), \\\n",
    "    StructField(\"customer_id\",StringType(),True), \\\n",
    "    StructField(\"order_date\",DateType(),True), \\\n",
    "    StructField(\"product_id\", StringType(), True), \\\n",
    "    StructField(\"quantity\", FloatType(), True), \\\n",
    "    StructField(\"price\", FloatType(), True) \\\n",
    "  ])\n",
    "dfsales = spark.createDataFrame(data, schema)\n",
    "dfsales.createOrReplaceTempView(\"Sales\")"
   ]
  },
  {
   "cell_type": "code",
   "execution_count": 0,
   "metadata": {
    "application/vnd.databricks.v1+cell": {
     "cellMetadata": {
      "byteLimit": 2048000,
      "implicitDf": true,
      "rowLimit": 10000
     },
     "inputWidgets": {},
     "nuid": "5852c0e4-f704-4f4f-9d3b-a13e915a5c29",
     "showTitle": false,
     "tableResultSettingsMap": {},
     "title": ""
    }
   },
   "outputs": [
    {
     "output_type": "display_data",
     "data": {
      "text/html": [
       "<style scoped>\n",
       "  .table-result-container {\n",
       "    max-height: 300px;\n",
       "    overflow: auto;\n",
       "  }\n",
       "  table, th, td {\n",
       "    border: 1px solid black;\n",
       "    border-collapse: collapse;\n",
       "  }\n",
       "  th, td {\n",
       "    padding: 5px;\n",
       "  }\n",
       "  th {\n",
       "    text-align: left;\n",
       "  }\n",
       "</style><div class='table-result-container'><table class='table-result'><thead style='background-color: white'><tr><th>order_id</th><th>customer_id</th><th>order_date</th><th>product_id</th><th>quantity</th><th>price</th></tr></thead><tbody><tr><td>1</td><td>101</td><td>2023-07-01</td><td>A</td><td>2.0</td><td>10.0</td></tr><tr><td>2</td><td>102</td><td>2023-11-01</td><td>B</td><td>3.0</td><td>15.0</td></tr><tr><td>3</td><td>101</td><td>2023-09-01</td><td>A</td><td>1.0</td><td>10.0</td></tr><tr><td>4</td><td>103</td><td>2023-07-02</td><td>C</td><td>2.0</td><td>20.0</td></tr><tr><td>5</td><td>102</td><td>2023-09-01</td><td>A</td><td>1.0</td><td>10.0</td></tr><tr><td>11</td><td>6101</td><td>2023-07-04</td><td>QA</td><td>72.0</td><td>10.0</td></tr><tr><td>21</td><td>6102</td><td>2023-07-05</td><td>QB</td><td>73.0</td><td>15.0</td></tr><tr><td>31</td><td>6101</td><td>2023-07-06</td><td>QA</td><td>71.0</td><td>10.0</td></tr><tr><td>41</td><td>6103</td><td>2023-07-07</td><td>QC</td><td>72.0</td><td>20.0</td></tr><tr><td>51</td><td>6102</td><td>2023-07-08</td><td>QA</td><td>71.0</td><td>10.0</td></tr><tr><td>71</td><td>101</td><td>2023-11-01</td><td>A</td><td>52.0</td><td>10.0</td></tr><tr><td>72</td><td>102</td><td>2023-08-01</td><td>B</td><td>53.0</td><td>15.0</td></tr><tr><td>73</td><td>101</td><td>2023-05-01</td><td>A</td><td>51.0</td><td>10.0</td></tr><tr><td>74</td><td>103</td><td>2023-08-02</td><td>C</td><td>52.0</td><td>20.0</td></tr><tr><td>75</td><td>102</td><td>2023-10-01</td><td>A</td><td>51.0</td><td>10.0</td></tr><tr><td>11</td><td>6401</td><td>2023-08-04</td><td>QA</td><td>572.0</td><td>10.0</td></tr><tr><td>21</td><td>6402</td><td>2023-07-05</td><td>QB</td><td>573.0</td><td>15.0</td></tr><tr><td>31</td><td>6401</td><td>2023-07-06</td><td>QA</td><td>571.0</td><td>10.0</td></tr><tr><td>41</td><td>6403</td><td>2023-07-07</td><td>QC</td><td>572.0</td><td>20.0</td></tr><tr><td>51</td><td>6402</td><td>2023-07-08</td><td>QA</td><td>571.0</td><td>10.0</td></tr></tbody></table></div>"
      ]
     },
     "metadata": {
      "application/vnd.databricks.v1+output": {
       "addedWidgets": {},
       "aggData": [],
       "aggError": "",
       "aggOverflow": false,
       "aggSchema": [],
       "aggSeriesLimitReached": false,
       "aggType": "",
       "arguments": {},
       "columnCustomDisplayInfos": {},
       "data": [
        [
         "1",
         "101",
         "2023-07-01",
         "A",
         2.0,
         10.0
        ],
        [
         "2",
         "102",
         "2023-11-01",
         "B",
         3.0,
         15.0
        ],
        [
         "3",
         "101",
         "2023-09-01",
         "A",
         1.0,
         10.0
        ],
        [
         "4",
         "103",
         "2023-07-02",
         "C",
         2.0,
         20.0
        ],
        [
         "5",
         "102",
         "2023-09-01",
         "A",
         1.0,
         10.0
        ],
        [
         "11",
         "6101",
         "2023-07-04",
         "QA",
         72.0,
         10.0
        ],
        [
         "21",
         "6102",
         "2023-07-05",
         "QB",
         73.0,
         15.0
        ],
        [
         "31",
         "6101",
         "2023-07-06",
         "QA",
         71.0,
         10.0
        ],
        [
         "41",
         "6103",
         "2023-07-07",
         "QC",
         72.0,
         20.0
        ],
        [
         "51",
         "6102",
         "2023-07-08",
         "QA",
         71.0,
         10.0
        ],
        [
         "71",
         "101",
         "2023-11-01",
         "A",
         52.0,
         10.0
        ],
        [
         "72",
         "102",
         "2023-08-01",
         "B",
         53.0,
         15.0
        ],
        [
         "73",
         "101",
         "2023-05-01",
         "A",
         51.0,
         10.0
        ],
        [
         "74",
         "103",
         "2023-08-02",
         "C",
         52.0,
         20.0
        ],
        [
         "75",
         "102",
         "2023-10-01",
         "A",
         51.0,
         10.0
        ],
        [
         "11",
         "6401",
         "2023-08-04",
         "QA",
         572.0,
         10.0
        ],
        [
         "21",
         "6402",
         "2023-07-05",
         "QB",
         573.0,
         15.0
        ],
        [
         "31",
         "6401",
         "2023-07-06",
         "QA",
         571.0,
         10.0
        ],
        [
         "41",
         "6403",
         "2023-07-07",
         "QC",
         572.0,
         20.0
        ],
        [
         "51",
         "6402",
         "2023-07-08",
         "QA",
         571.0,
         10.0
        ]
       ],
       "datasetInfos": [],
       "dbfsResultPath": null,
       "isJsonSchema": true,
       "metadata": {},
       "overflow": false,
       "plotOptions": {
        "customPlotOptions": {},
        "displayType": "table",
        "pivotAggregation": null,
        "pivotColumns": null,
        "xColumns": null,
        "yColumns": null
       },
       "removedWidgets": [],
       "schema": [
        {
         "metadata": "{}",
         "name": "order_id",
         "type": "\"string\""
        },
        {
         "metadata": "{}",
         "name": "customer_id",
         "type": "\"string\""
        },
        {
         "metadata": "{}",
         "name": "order_date",
         "type": "\"date\""
        },
        {
         "metadata": "{}",
         "name": "product_id",
         "type": "\"string\""
        },
        {
         "metadata": "{}",
         "name": "quantity",
         "type": "\"float\""
        },
        {
         "metadata": "{}",
         "name": "price",
         "type": "\"float\""
        }
       ],
       "type": "table"
      }
     },
     "output_type": "display_data"
    }
   ],
   "source": [
    "%sql\n",
    "-- spark.sql(\"select * from Sales\").show()\n",
    "select * from Sales"
   ]
  },
  {
   "cell_type": "code",
   "execution_count": 0,
   "metadata": {
    "application/vnd.databricks.v1+cell": {
     "cellMetadata": {
      "byteLimit": 2048000,
      "implicitDf": true,
      "rowLimit": 10000
     },
     "inputWidgets": {},
     "nuid": "b60d3dd1-fb3e-4efa-a9c8-f6dd598a0a4a",
     "showTitle": false,
     "tableResultSettingsMap": {},
     "title": ""
    }
   },
   "outputs": [
    {
     "output_type": "display_data",
     "data": {
      "text/html": [
       "<style scoped>\n",
       "  .table-result-container {\n",
       "    max-height: 300px;\n",
       "    overflow: auto;\n",
       "  }\n",
       "  table, th, td {\n",
       "    border: 1px solid black;\n",
       "    border-collapse: collapse;\n",
       "  }\n",
       "  th, td {\n",
       "    padding: 5px;\n",
       "  }\n",
       "  th {\n",
       "    text-align: left;\n",
       "  }\n",
       "</style><div class='table-result-container'><table class='table-result'><thead style='background-color: white'><tr><th>order_date</th><th>price</th><th>rolling_avg_7</th></tr></thead><tbody><tr><td>2023-05-01</td><td>10.0</td><td>10.0</td></tr><tr><td>2023-07-01</td><td>10.0</td><td>10.0</td></tr><tr><td>2023-07-02</td><td>20.0</td><td>13.333333333333334</td></tr><tr><td>2023-07-04</td><td>10.0</td><td>12.5</td></tr><tr><td>2023-07-05</td><td>15.0</td><td>13.0</td></tr><tr><td>2023-07-05</td><td>15.0</td><td>13.333333333333334</td></tr><tr><td>2023-07-06</td><td>10.0</td><td>12.857142857142858</td></tr><tr><td>2023-07-06</td><td>10.0</td><td>12.857142857142858</td></tr><tr><td>2023-07-07</td><td>20.0</td><td>14.285714285714286</td></tr><tr><td>2023-07-07</td><td>20.0</td><td>14.285714285714286</td></tr><tr><td>2023-07-08</td><td>10.0</td><td>14.285714285714286</td></tr><tr><td>2023-07-08</td><td>10.0</td><td>13.571428571428571</td></tr><tr><td>2023-08-01</td><td>15.0</td><td>13.571428571428571</td></tr><tr><td>2023-08-02</td><td>20.0</td><td>15.0</td></tr><tr><td>2023-08-04</td><td>10.0</td><td>15.0</td></tr><tr><td>2023-09-01</td><td>10.0</td><td>13.571428571428571</td></tr><tr><td>2023-09-01</td><td>10.0</td><td>12.142857142857142</td></tr><tr><td>2023-10-01</td><td>10.0</td><td>12.142857142857142</td></tr><tr><td>2023-11-01</td><td>15.0</td><td>12.857142857142858</td></tr><tr><td>2023-11-01</td><td>10.0</td><td>12.142857142857142</td></tr></tbody></table></div>"
      ]
     },
     "metadata": {
      "application/vnd.databricks.v1+output": {
       "addedWidgets": {},
       "aggData": [],
       "aggError": "",
       "aggOverflow": false,
       "aggSchema": [],
       "aggSeriesLimitReached": false,
       "aggType": "",
       "arguments": {},
       "columnCustomDisplayInfos": {},
       "data": [
        [
         "2023-05-01",
         10.0,
         10.0
        ],
        [
         "2023-07-01",
         10.0,
         10.0
        ],
        [
         "2023-07-02",
         20.0,
         13.333333333333334
        ],
        [
         "2023-07-04",
         10.0,
         12.5
        ],
        [
         "2023-07-05",
         15.0,
         13.0
        ],
        [
         "2023-07-05",
         15.0,
         13.333333333333334
        ],
        [
         "2023-07-06",
         10.0,
         12.857142857142858
        ],
        [
         "2023-07-06",
         10.0,
         12.857142857142858
        ],
        [
         "2023-07-07",
         20.0,
         14.285714285714286
        ],
        [
         "2023-07-07",
         20.0,
         14.285714285714286
        ],
        [
         "2023-07-08",
         10.0,
         14.285714285714286
        ],
        [
         "2023-07-08",
         10.0,
         13.571428571428571
        ],
        [
         "2023-08-01",
         15.0,
         13.571428571428571
        ],
        [
         "2023-08-02",
         20.0,
         15.0
        ],
        [
         "2023-08-04",
         10.0,
         15.0
        ],
        [
         "2023-09-01",
         10.0,
         13.571428571428571
        ],
        [
         "2023-09-01",
         10.0,
         12.142857142857142
        ],
        [
         "2023-10-01",
         10.0,
         12.142857142857142
        ],
        [
         "2023-11-01",
         15.0,
         12.857142857142858
        ],
        [
         "2023-11-01",
         10.0,
         12.142857142857142
        ]
       ],
       "datasetInfos": [],
       "dbfsResultPath": null,
       "isJsonSchema": true,
       "metadata": {},
       "overflow": false,
       "plotOptions": {
        "customPlotOptions": {},
        "displayType": "table",
        "pivotAggregation": null,
        "pivotColumns": null,
        "xColumns": null,
        "yColumns": null
       },
       "removedWidgets": [],
       "schema": [
        {
         "metadata": "{}",
         "name": "order_date",
         "type": "\"date\""
        },
        {
         "metadata": "{}",
         "name": "price",
         "type": "\"float\""
        },
        {
         "metadata": "{}",
         "name": "rolling_avg_7",
         "type": "\"double\""
        }
       ],
       "type": "table"
      }
     },
     "output_type": "display_data"
    }
   ],
   "source": [
    "%sql\n",
    "select order_date,price, avg(price) over(order by order_date rows between 6 preceding and current row) as rolling_avg_7 from sales"
   ]
  },
  {
   "cell_type": "code",
   "execution_count": 0,
   "metadata": {
    "application/vnd.databricks.v1+cell": {
     "cellMetadata": {
      "byteLimit": 2048000,
      "implicitDf": true,
      "rowLimit": 10000
     },
     "inputWidgets": {},
     "nuid": "44f44c5d-bf98-4dd2-89e0-8e7ae2decd36",
     "showTitle": false,
     "tableResultSettingsMap": {},
     "title": ""
    }
   },
   "outputs": [
    {
     "output_type": "display_data",
     "data": {
      "text/html": [
       "<style scoped>\n",
       "  .table-result-container {\n",
       "    max-height: 300px;\n",
       "    overflow: auto;\n",
       "  }\n",
       "  table, th, td {\n",
       "    border: 1px solid black;\n",
       "    border-collapse: collapse;\n",
       "  }\n",
       "  th, td {\n",
       "    padding: 5px;\n",
       "  }\n",
       "  th {\n",
       "    text-align: left;\n",
       "  }\n",
       "</style><div class='table-result-container'><table class='table-result'><thead style='background-color: white'><tr><th>order_date</th><th>price</th><th>rolling_avg_7</th></tr></thead><tbody><tr><td>2023-05-01</td><td>10.0</td><td>10.0</td></tr><tr><td>2023-07-01</td><td>10.0</td><td>10.0</td></tr><tr><td>2023-07-02</td><td>20.0</td><td>13.333333333333334</td></tr><tr><td>2023-07-04</td><td>10.0</td><td>12.5</td></tr><tr><td>2023-07-05</td><td>15.0</td><td>13.0</td></tr><tr><td>2023-07-05</td><td>15.0</td><td>13.333333333333334</td></tr><tr><td>2023-07-06</td><td>10.0</td><td>13.333333333333334</td></tr><tr><td>2023-07-06</td><td>10.0</td><td>13.333333333333334</td></tr><tr><td>2023-07-07</td><td>20.0</td><td>13.333333333333334</td></tr><tr><td>2023-07-07</td><td>20.0</td><td>15.0</td></tr><tr><td>2023-07-08</td><td>10.0</td><td>14.166666666666666</td></tr><tr><td>2023-07-08</td><td>10.0</td><td>13.333333333333334</td></tr><tr><td>2023-08-01</td><td>15.0</td><td>14.166666666666666</td></tr><tr><td>2023-08-02</td><td>20.0</td><td>15.833333333333334</td></tr><tr><td>2023-08-04</td><td>10.0</td><td>14.166666666666666</td></tr><tr><td>2023-09-01</td><td>10.0</td><td>12.5</td></tr><tr><td>2023-09-01</td><td>10.0</td><td>12.5</td></tr><tr><td>2023-10-01</td><td>10.0</td><td>12.5</td></tr><tr><td>2023-11-01</td><td>15.0</td><td>12.5</td></tr><tr><td>2023-11-01</td><td>10.0</td><td>10.833333333333334</td></tr></tbody></table></div>"
      ]
     },
     "metadata": {
      "application/vnd.databricks.v1+output": {
       "addedWidgets": {},
       "aggData": [],
       "aggError": "",
       "aggOverflow": false,
       "aggSchema": [],
       "aggSeriesLimitReached": false,
       "aggType": "",
       "arguments": {},
       "columnCustomDisplayInfos": {},
       "data": [
        [
         "2023-05-01",
         10.0,
         10.0
        ],
        [
         "2023-07-01",
         10.0,
         10.0
        ],
        [
         "2023-07-02",
         20.0,
         13.333333333333334
        ],
        [
         "2023-07-04",
         10.0,
         12.5
        ],
        [
         "2023-07-05",
         15.0,
         13.0
        ],
        [
         "2023-07-05",
         15.0,
         13.333333333333334
        ],
        [
         "2023-07-06",
         10.0,
         13.333333333333334
        ],
        [
         "2023-07-06",
         10.0,
         13.333333333333334
        ],
        [
         "2023-07-07",
         20.0,
         13.333333333333334
        ],
        [
         "2023-07-07",
         20.0,
         15.0
        ],
        [
         "2023-07-08",
         10.0,
         14.166666666666666
        ],
        [
         "2023-07-08",
         10.0,
         13.333333333333334
        ],
        [
         "2023-08-01",
         15.0,
         14.166666666666666
        ],
        [
         "2023-08-02",
         20.0,
         15.833333333333334
        ],
        [
         "2023-08-04",
         10.0,
         14.166666666666666
        ],
        [
         "2023-09-01",
         10.0,
         12.5
        ],
        [
         "2023-09-01",
         10.0,
         12.5
        ],
        [
         "2023-10-01",
         10.0,
         12.5
        ],
        [
         "2023-11-01",
         15.0,
         12.5
        ],
        [
         "2023-11-01",
         10.0,
         10.833333333333334
        ]
       ],
       "datasetInfos": [],
       "dbfsResultPath": null,
       "isJsonSchema": true,
       "metadata": {},
       "overflow": false,
       "plotOptions": {
        "customPlotOptions": {},
        "displayType": "table",
        "pivotAggregation": null,
        "pivotColumns": null,
        "xColumns": null,
        "yColumns": null
       },
       "removedWidgets": [],
       "schema": [
        {
         "metadata": "{}",
         "name": "order_date",
         "type": "\"date\""
        },
        {
         "metadata": "{}",
         "name": "price",
         "type": "\"float\""
        },
        {
         "metadata": "{}",
         "name": "rolling_avg_7",
         "type": "\"double\""
        }
       ],
       "type": "table"
      }
     },
     "output_type": "display_data"
    }
   ],
   "source": [
    "%sql\n",
    "select order_date,price, avg(price) over(order by order_date rows between 5 preceding and current row) as rolling_avg_7 from sales"
   ]
  },
  {
   "cell_type": "code",
   "execution_count": 0,
   "metadata": {
    "application/vnd.databricks.v1+cell": {
     "cellMetadata": {
      "byteLimit": 2048000,
      "implicitDf": true,
      "rowLimit": 10000
     },
     "inputWidgets": {},
     "nuid": "84addeb4-6f7f-4817-b9e2-dbbf9e55f876",
     "showTitle": false,
     "tableResultSettingsMap": {},
     "title": ""
    }
   },
   "outputs": [
    {
     "output_type": "display_data",
     "data": {
      "text/html": [
       "<style scoped>\n",
       "  .table-result-container {\n",
       "    max-height: 300px;\n",
       "    overflow: auto;\n",
       "  }\n",
       "  table, th, td {\n",
       "    border: 1px solid black;\n",
       "    border-collapse: collapse;\n",
       "  }\n",
       "  th, td {\n",
       "    padding: 5px;\n",
       "  }\n",
       "  th {\n",
       "    text-align: left;\n",
       "  }\n",
       "</style><div class='table-result-container'><table class='table-result'><thead style='background-color: white'><tr><th>customer_id</th><th>order_date</th><th>months_diff</th></tr></thead><tbody><tr><td>101</td><td>2023-05-01</td><td>null</td></tr><tr><td>101</td><td>2023-07-01</td><td>2</td></tr><tr><td>101</td><td>2023-09-01</td><td>2</td></tr><tr><td>101</td><td>2023-11-01</td><td>2</td></tr><tr><td>102</td><td>2023-08-01</td><td>null</td></tr><tr><td>102</td><td>2023-09-01</td><td>1</td></tr><tr><td>102</td><td>2023-10-01</td><td>1</td></tr><tr><td>102</td><td>2023-11-01</td><td>1</td></tr><tr><td>103</td><td>2023-07-02</td><td>null</td></tr><tr><td>103</td><td>2023-08-02</td><td>1</td></tr><tr><td>6101</td><td>2023-07-04</td><td>null</td></tr><tr><td>6101</td><td>2023-07-06</td><td>0</td></tr><tr><td>6102</td><td>2023-07-05</td><td>null</td></tr><tr><td>6102</td><td>2023-07-08</td><td>0</td></tr><tr><td>6103</td><td>2023-07-07</td><td>null</td></tr><tr><td>6401</td><td>2023-07-06</td><td>null</td></tr><tr><td>6401</td><td>2023-08-04</td><td>0</td></tr><tr><td>6402</td><td>2023-07-05</td><td>null</td></tr><tr><td>6402</td><td>2023-07-08</td><td>0</td></tr><tr><td>6403</td><td>2023-07-07</td><td>null</td></tr></tbody></table></div>"
      ]
     },
     "metadata": {
      "application/vnd.databricks.v1+output": {
       "addedWidgets": {},
       "aggData": [],
       "aggError": "",
       "aggOverflow": false,
       "aggSchema": [],
       "aggSeriesLimitReached": false,
       "aggType": "",
       "arguments": {},
       "columnCustomDisplayInfos": {},
       "data": [
        [
         "101",
         "2023-05-01",
         null
        ],
        [
         "101",
         "2023-07-01",
         2
        ],
        [
         "101",
         "2023-09-01",
         2
        ],
        [
         "101",
         "2023-11-01",
         2
        ],
        [
         "102",
         "2023-08-01",
         null
        ],
        [
         "102",
         "2023-09-01",
         1
        ],
        [
         "102",
         "2023-10-01",
         1
        ],
        [
         "102",
         "2023-11-01",
         1
        ],
        [
         "103",
         "2023-07-02",
         null
        ],
        [
         "103",
         "2023-08-02",
         1
        ],
        [
         "6101",
         "2023-07-04",
         null
        ],
        [
         "6101",
         "2023-07-06",
         0
        ],
        [
         "6102",
         "2023-07-05",
         null
        ],
        [
         "6102",
         "2023-07-08",
         0
        ],
        [
         "6103",
         "2023-07-07",
         null
        ],
        [
         "6401",
         "2023-07-06",
         null
        ],
        [
         "6401",
         "2023-08-04",
         0
        ],
        [
         "6402",
         "2023-07-05",
         null
        ],
        [
         "6402",
         "2023-07-08",
         0
        ],
        [
         "6403",
         "2023-07-07",
         null
        ]
       ],
       "datasetInfos": [],
       "dbfsResultPath": null,
       "isJsonSchema": true,
       "metadata": {},
       "overflow": false,
       "plotOptions": {
        "customPlotOptions": {},
        "displayType": "table",
        "pivotAggregation": null,
        "pivotColumns": null,
        "xColumns": null,
        "yColumns": null
       },
       "removedWidgets": [],
       "schema": [
        {
         "metadata": "{}",
         "name": "customer_id",
         "type": "\"string\""
        },
        {
         "metadata": "{}",
         "name": "order_date",
         "type": "\"date\""
        },
        {
         "metadata": "{}",
         "name": "months_diff",
         "type": "\"long\""
        }
       ],
       "type": "table"
      }
     },
     "output_type": "display_data"
    }
   ],
   "source": [
    "%sql\n",
    "SELECT customer_id, order_date, DATEDIFF(month, LAG(order_date) OVER (PARTITION BY customer_id ORDER BY order_date), order_date) AS months_diff FROM Sales"
   ]
  },
  {
   "cell_type": "code",
   "execution_count": 0,
   "metadata": {
    "application/vnd.databricks.v1+cell": {
     "cellMetadata": {
      "byteLimit": 2048000,
      "implicitDf": true,
      "rowLimit": 10000
     },
     "inputWidgets": {},
     "nuid": "97dbcbaa-deda-4c6b-83b3-b10c8e20529f",
     "showTitle": false,
     "tableResultSettingsMap": {},
     "title": ""
    }
   },
   "outputs": [
    {
     "output_type": "display_data",
     "data": {
      "text/html": [
       "<style scoped>\n",
       "  .table-result-container {\n",
       "    max-height: 300px;\n",
       "    overflow: auto;\n",
       "  }\n",
       "  table, th, td {\n",
       "    border: 1px solid black;\n",
       "    border-collapse: collapse;\n",
       "  }\n",
       "  th, td {\n",
       "    padding: 5px;\n",
       "  }\n",
       "  th {\n",
       "    text-align: left;\n",
       "  }\n",
       "</style><div class='table-result-container'><table class='table-result'><thead style='background-color: white'><tr><th>customer_id</th><th>order_date</th><th>months_diff</th></tr></thead><tbody><tr><td>102</td><td>2023-09-01</td><td>1</td></tr><tr><td>102</td><td>2023-10-01</td><td>1</td></tr><tr><td>102</td><td>2023-11-01</td><td>1</td></tr><tr><td>103</td><td>2023-08-02</td><td>1</td></tr></tbody></table></div>"
      ]
     },
     "metadata": {
      "application/vnd.databricks.v1+output": {
       "addedWidgets": {},
       "aggData": [],
       "aggError": "",
       "aggOverflow": false,
       "aggSchema": [],
       "aggSeriesLimitReached": false,
       "aggType": "",
       "arguments": {},
       "columnCustomDisplayInfos": {},
       "data": [
        [
         "102",
         "2023-09-01",
         1
        ],
        [
         "102",
         "2023-10-01",
         1
        ],
        [
         "102",
         "2023-11-01",
         1
        ],
        [
         "103",
         "2023-08-02",
         1
        ]
       ],
       "datasetInfos": [],
       "dbfsResultPath": null,
       "isJsonSchema": true,
       "metadata": {},
       "overflow": false,
       "plotOptions": {
        "customPlotOptions": {},
        "displayType": "table",
        "pivotAggregation": null,
        "pivotColumns": null,
        "xColumns": null,
        "yColumns": null
       },
       "removedWidgets": [],
       "schema": [
        {
         "metadata": "{}",
         "name": "customer_id",
         "type": "\"string\""
        },
        {
         "metadata": "{}",
         "name": "order_date",
         "type": "\"date\""
        },
        {
         "metadata": "{}",
         "name": "months_diff",
         "type": "\"long\""
        }
       ],
       "type": "table"
      }
     },
     "output_type": "display_data"
    }
   ],
   "source": [
    "%sql\n",
    "--columns = [\"order_id\", \"customer_id\", \"order_date\", \"product_id\", \"quantity\", \"price\"]\n",
    "/* customers with consecutive months of purchase */\n",
    "with aa as \n",
    "(SELECT customer_id, order_date, DATEDIFF(month, LAG(order_date) OVER (PARTITION BY customer_id ORDER BY order_date), order_date) AS months_diff FROM Sales\n",
    ")\n",
    " select * from aa WHERE months_diff = 1;"
   ]
  },
  {
   "cell_type": "code",
   "execution_count": 0,
   "metadata": {
    "application/vnd.databricks.v1+cell": {
     "cellMetadata": {
      "byteLimit": 2048000,
      "implicitDf": true,
      "rowLimit": 10000
     },
     "inputWidgets": {},
     "nuid": "cb5f3eb5-73ad-44c7-96d3-f1fd28a5cc3f",
     "showTitle": false,
     "tableResultSettingsMap": {},
     "title": ""
    }
   },
   "outputs": [
    {
     "output_type": "display_data",
     "data": {
      "text/html": [
       "<style scoped>\n",
       "  .table-result-container {\n",
       "    max-height: 300px;\n",
       "    overflow: auto;\n",
       "  }\n",
       "  table, th, td {\n",
       "    border: 1px solid black;\n",
       "    border-collapse: collapse;\n",
       "  }\n",
       "  th, td {\n",
       "    padding: 5px;\n",
       "  }\n",
       "  th {\n",
       "    text-align: left;\n",
       "  }\n",
       "</style><div class='table-result-container'><table class='table-result'><thead style='background-color: white'><tr><th>customer_id</th><th>x</th></tr></thead><tbody><tr><td>101</td><td>null</td></tr><tr><td>101</td><td>61</td></tr><tr><td>101</td><td>62</td></tr><tr><td>101</td><td>61</td></tr><tr><td>102</td><td>null</td></tr><tr><td>102</td><td>31</td></tr><tr><td>102</td><td>30</td></tr><tr><td>102</td><td>31</td></tr><tr><td>103</td><td>null</td></tr><tr><td>103</td><td>31</td></tr><tr><td>6101</td><td>null</td></tr><tr><td>6101</td><td>2</td></tr><tr><td>6102</td><td>null</td></tr><tr><td>6102</td><td>3</td></tr><tr><td>6103</td><td>null</td></tr><tr><td>6401</td><td>null</td></tr><tr><td>6401</td><td>29</td></tr><tr><td>6402</td><td>null</td></tr><tr><td>6402</td><td>3</td></tr><tr><td>6403</td><td>null</td></tr></tbody></table></div>"
      ]
     },
     "metadata": {
      "application/vnd.databricks.v1+output": {
       "addedWidgets": {},
       "aggData": [],
       "aggError": "",
       "aggOverflow": false,
       "aggSchema": [],
       "aggSeriesLimitReached": false,
       "aggType": "",
       "arguments": {},
       "columnCustomDisplayInfos": {},
       "data": [
        [
         "101",
         null
        ],
        [
         "101",
         61
        ],
        [
         "101",
         62
        ],
        [
         "101",
         61
        ],
        [
         "102",
         null
        ],
        [
         "102",
         31
        ],
        [
         "102",
         30
        ],
        [
         "102",
         31
        ],
        [
         "103",
         null
        ],
        [
         "103",
         31
        ],
        [
         "6101",
         null
        ],
        [
         "6101",
         2
        ],
        [
         "6102",
         null
        ],
        [
         "6102",
         3
        ],
        [
         "6103",
         null
        ],
        [
         "6401",
         null
        ],
        [
         "6401",
         29
        ],
        [
         "6402",
         null
        ],
        [
         "6402",
         3
        ],
        [
         "6403",
         null
        ]
       ],
       "datasetInfos": [],
       "dbfsResultPath": null,
       "isJsonSchema": true,
       "metadata": {},
       "overflow": false,
       "plotOptions": {
        "customPlotOptions": {},
        "displayType": "table",
        "pivotAggregation": null,
        "pivotColumns": null,
        "xColumns": null,
        "yColumns": null
       },
       "removedWidgets": [],
       "schema": [
        {
         "metadata": "{}",
         "name": "customer_id",
         "type": "\"string\""
        },
        {
         "metadata": "{}",
         "name": "x",
         "type": "\"long\""
        }
       ],
       "type": "table"
      }
     },
     "output_type": "display_data"
    }
   ],
   "source": [
    "%sql\n",
    "\n",
    "-- select customer_id, avg(datediff(month,lag(order_date)        \n",
    "-- over (partition by customer_id order by order_date), order_date)) as avg_days_between_days FROM Sales\n",
    "-- select * from sales\n",
    "-- SELECT customer_id, order_date, DATEDIFF(month, LAG(order_date) OVER (PARTITION BY customer_id ORDER BY order_date), order_date) AS months_diff FROM Sales\n",
    "select customer_id, \n",
    "(DATEDIFF(day,lag(order_date) over (partition by customer_id order by order_date),order_date)) as x \n",
    "from sales "
   ]
  },
  {
   "cell_type": "code",
   "execution_count": 0,
   "metadata": {
    "application/vnd.databricks.v1+cell": {
     "cellMetadata": {
      "byteLimit": 2048000,
      "rowLimit": 10000
     },
     "inputWidgets": {},
     "nuid": "93cddf1b-7b2a-4b52-842f-b3f2155afb33",
     "showTitle": false,
     "tableResultSettingsMap": {},
     "title": ""
    }
   },
   "outputs": [],
   "source": [
    "# dfSalesbyItem =\n",
    "dfsales.groupBy(\"product_id\").agg(sum(\"price\").alias(\"totalsales\")).createOrReplaceTempView(\"SalesByItem\")# show()\n",
    "# dfsales.groupBy(\"product_id\").agg(sum(\"price\").alias(\"totalsales\")).show()\n",
    "# dfsales.groupBy(\"product_id\").sum(\"price\").withColumnRenamed(\"sum(price)\",\"totalsales\").show()\n",
    "# dfsales.createOrReplaceTempView(\"Sales\")"
   ]
  },
  {
   "cell_type": "code",
   "execution_count": 0,
   "metadata": {
    "application/vnd.databricks.v1+cell": {
     "cellMetadata": {
      "byteLimit": 2048000,
      "implicitDf": true,
      "rowLimit": 10000
     },
     "inputWidgets": {},
     "nuid": "aaa9dfe3-8345-40d3-b4c8-ecf1f8fd49ee",
     "showTitle": false,
     "tableResultSettingsMap": {},
     "title": ""
    }
   },
   "outputs": [
    {
     "output_type": "display_data",
     "data": {
      "text/html": [
       "<style scoped>\n",
       "  .table-result-container {\n",
       "    max-height: 300px;\n",
       "    overflow: auto;\n",
       "  }\n",
       "  table, th, td {\n",
       "    border: 1px solid black;\n",
       "    border-collapse: collapse;\n",
       "  }\n",
       "  th, td {\n",
       "    padding: 5px;\n",
       "  }\n",
       "  th {\n",
       "    text-align: left;\n",
       "  }\n",
       "</style><div class='table-result-container'><table class='table-result'><thead style='background-color: white'><tr><th>product_id</th><th>totalsales</th></tr></thead><tbody><tr><td>B</td><td>30.0</td></tr><tr><td>A</td><td>60.0</td></tr><tr><td>C</td><td>40.0</td></tr><tr><td>QA</td><td>60.0</td></tr><tr><td>QC</td><td>40.0</td></tr><tr><td>QB</td><td>30.0</td></tr></tbody></table></div>"
      ]
     },
     "metadata": {
      "application/vnd.databricks.v1+output": {
       "addedWidgets": {},
       "aggData": [],
       "aggError": "",
       "aggOverflow": false,
       "aggSchema": [],
       "aggSeriesLimitReached": false,
       "aggType": "",
       "arguments": {},
       "columnCustomDisplayInfos": {},
       "data": [
        [
         "B",
         30.0
        ],
        [
         "A",
         60.0
        ],
        [
         "C",
         40.0
        ],
        [
         "QA",
         60.0
        ],
        [
         "QC",
         40.0
        ],
        [
         "QB",
         30.0
        ]
       ],
       "datasetInfos": [],
       "dbfsResultPath": null,
       "isJsonSchema": true,
       "metadata": {},
       "overflow": false,
       "plotOptions": {
        "customPlotOptions": {},
        "displayType": "table",
        "pivotAggregation": null,
        "pivotColumns": null,
        "xColumns": null,
        "yColumns": null
       },
       "removedWidgets": [],
       "schema": [
        {
         "metadata": "{}",
         "name": "product_id",
         "type": "\"string\""
        },
        {
         "metadata": "{}",
         "name": "totalsales",
         "type": "\"double\""
        }
       ],
       "type": "table"
      }
     },
     "output_type": "display_data"
    }
   ],
   "source": [
    "%sql\n",
    "select * from SalesByItem-- limit 5"
   ]
  },
  {
   "cell_type": "code",
   "execution_count": 0,
   "metadata": {
    "application/vnd.databricks.v1+cell": {
     "cellMetadata": {
      "byteLimit": 2048000,
      "implicitDf": true,
      "rowLimit": 10000
     },
     "inputWidgets": {},
     "nuid": "8f97671e-b49f-4cf9-927e-b8ed2b714fe6",
     "showTitle": false,
     "tableResultSettingsMap": {},
     "title": ""
    }
   },
   "outputs": [
    {
     "output_type": "display_data",
     "data": {
      "text/html": [
       "<style scoped>\n",
       "  .table-result-container {\n",
       "    max-height: 300px;\n",
       "    overflow: auto;\n",
       "  }\n",
       "  table, th, td {\n",
       "    border: 1px solid black;\n",
       "    border-collapse: collapse;\n",
       "  }\n",
       "  th, td {\n",
       "    padding: 5px;\n",
       "  }\n",
       "  th {\n",
       "    text-align: left;\n",
       "  }\n",
       "</style><div class='table-result-container'><table class='table-result'><thead style='background-color: white'><tr><th>product_id</th><th>totalsales</th><th>Ranks</th></tr></thead><tbody><tr><td>A</td><td>60.0</td><td>1</td></tr><tr><td>B</td><td>30.0</td><td>1</td></tr><tr><td>C</td><td>40.0</td><td>1</td></tr><tr><td>QA</td><td>60.0</td><td>1</td></tr><tr><td>QB</td><td>30.0</td><td>1</td></tr><tr><td>QC</td><td>40.0</td><td>1</td></tr></tbody></table></div>"
      ]
     },
     "metadata": {
      "application/vnd.databricks.v1+output": {
       "addedWidgets": {},
       "aggData": [],
       "aggError": "",
       "aggOverflow": false,
       "aggSchema": [],
       "aggSeriesLimitReached": false,
       "aggType": "",
       "arguments": {},
       "columnCustomDisplayInfos": {},
       "data": [
        [
         "A",
         60.0,
         1
        ],
        [
         "B",
         30.0,
         1
        ],
        [
         "C",
         40.0,
         1
        ],
        [
         "QA",
         60.0,
         1
        ],
        [
         "QB",
         30.0,
         1
        ],
        [
         "QC",
         40.0,
         1
        ]
       ],
       "datasetInfos": [],
       "dbfsResultPath": null,
       "isJsonSchema": true,
       "metadata": {},
       "overflow": false,
       "plotOptions": {
        "customPlotOptions": {},
        "displayType": "table",
        "pivotAggregation": null,
        "pivotColumns": null,
        "xColumns": null,
        "yColumns": null
       },
       "removedWidgets": [],
       "schema": [
        {
         "metadata": "{}",
         "name": "product_id",
         "type": "\"string\""
        },
        {
         "metadata": "{}",
         "name": "totalsales",
         "type": "\"double\""
        },
        {
         "metadata": "{}",
         "name": "Ranks",
         "type": "\"integer\""
        }
       ],
       "type": "table"
      }
     },
     "output_type": "display_data"
    }
   ],
   "source": [
    "%sql\n",
    "select product_id, totalsales, rank() over(partition by product_id order by totalsales) as Ranks from SalesByItem"
   ]
  },
  {
   "cell_type": "code",
   "execution_count": 0,
   "metadata": {
    "application/vnd.databricks.v1+cell": {
     "cellMetadata": {},
     "inputWidgets": {},
     "nuid": "2d8cd397-3531-4945-9b43-391b94cac54f",
     "showTitle": false,
     "tableResultSettingsMap": {},
     "title": ""
    }
   },
   "outputs": [],
   "source": [
    "%sql\n",
    "\n",
    "select product_id,avg(datediff(day,lag()))"
   ]
  }
 ],
 "metadata": {
  "application/vnd.databricks.v1+notebook": {
   "computePreferences": null,
   "dashboards": [],
   "environmentMetadata": {
    "base_environment": "",
    "environment_version": "1"
   },
   "inputWidgetPreferences": null,
   "language": "python",
   "notebookMetadata": {
    "mostRecentlyExecutedCommandWithImplicitDF": {
     "commandId": 1609657457327666,
     "dataframes": [
      "_sqldf"
     ]
    },
    "pythonIndentUnit": 4
   },
   "notebookName": "SQLDE_Questions",
   "widgets": {}
  }
 },
 "nbformat": 4,
 "nbformat_minor": 0
}