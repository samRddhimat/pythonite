{
 "cells": [
  {
   "cell_type": "markdown",
   "metadata": {
    "application/vnd.databricks.v1+cell": {
     "cellMetadata": {},
     "inputWidgets": {},
     "nuid": "512a7c93-aa21-443c-b8f6-e38a23a4d53e",
     "showTitle": false,
     "tableResultSettingsMap": {},
     "title": ""
    }
   },
   "source": [
    "### ecom style proposal\n",
    "For all orders containing multiple products, find the top 5 most common product pairs that are frequently bought together.\n",
    "Do it in an optimized way that avoids cartesian explosion!\n",
    "\n",
    "**collect_set, tuple, struct are used**\n"
   ]
  },
  {
   "cell_type": "code",
   "execution_count": 0,
   "metadata": {
    "application/vnd.databricks.v1+cell": {
     "cellMetadata": {
      "byteLimit": 2048000,
      "rowLimit": 10000
     },
     "inputWidgets": {},
     "nuid": "fc0d4efb-cd0a-43eb-b6f0-a80bdd6a7869",
     "showTitle": false,
     "tableResultSettingsMap": {},
     "title": ""
    }
   },
   "outputs": [
    {
     "output_type": "stream",
     "name": "stdout",
     "output_type": "stream",
     "text": [
      "+--------+----------+\n|order_id|product_id|\n+--------+----------+\n|    O001|      P001|\n|    O001|      P002|\n|    O001|      P003|\n|    O002|      P001|\n|    O002|      P002|\n|    O003|      P004|\n|    O004|      P001|\n|    O004|      P003|\n+--------+----------+\n\n"
     ]
    }
   ],
   "source": [
    "from pyspark.sql.functions import col, count, asc, array, collect_set, explode, struct,concat\n",
    "from itertools import combinations\n",
    "\n",
    "from pyspark.sql.types import ArrayType,StructType,StructField, StringType\n",
    "from pyspark.sql.functions import udf\n",
    "\n",
    "trans = [\n",
    "    (\"O001\", \"P001\"), (\"O001\", \"P002\"), (\"O001\", \"P003\"),\n",
    "    (\"O002\", \"P001\"), (\"O002\", \"P002\"),\n",
    "    (\"O003\", \"P004\"),\n",
    "    (\"O004\", \"P001\"), (\"O004\", \"P003\")\n",
    "]\n",
    "\n",
    "dftrans = spark.createDataFrame(trans, [\"order_id\", \"product_id\"])\n",
    "\n",
    "dftrans.show()"
   ]
  },
  {
   "cell_type": "code",
   "execution_count": 0,
   "metadata": {
    "application/vnd.databricks.v1+cell": {
     "cellMetadata": {
      "byteLimit": 2048000,
      "rowLimit": 10000
     },
     "inputWidgets": {},
     "nuid": "0e73bbe4-2a7a-4cea-abe4-6e96459258d7",
     "showTitle": false,
     "tableResultSettingsMap": {},
     "title": ""
    }
   },
   "outputs": [
    {
     "output_type": "stream",
     "name": "stdout",
     "output_type": "stream",
     "text": [
      "+--------+------------------+\n|order_id|          products|\n+--------+------------------+\n|    O001|[P002, P003, P001]|\n|    O002|      [P002, P001]|\n|    O003|            [P004]|\n|    O004|      [P003, P001]|\n+--------+------------------+\n\n"
     ]
    }
   ],
   "source": [
    "dforders = dftrans.groupBy(\"order_id\") \\\n",
    "    .agg(collect_set(\"product_id\").alias(\"products\"))\n",
    "\n",
    "dforders.show()"
   ]
  },
  {
   "cell_type": "code",
   "execution_count": 0,
   "metadata": {
    "application/vnd.databricks.v1+cell": {
     "cellMetadata": {
      "byteLimit": 2048000,
      "rowLimit": 10000
     },
     "inputWidgets": {},
     "nuid": "1437c80f-b57b-4a73-9d21-331ebf78cc36",
     "showTitle": false,
     "tableResultSettingsMap": {},
     "title": ""
    }
   },
   "outputs": [],
   "source": [
    "def generate_pairs(products):\n",
    "    return [tuple(sorted(p)) for p in combinations(products,2)] if len(products)>=2 else[]\n",
    "    # return [tuple(p) for p in combinations(products,2)] if len(products)>=2 else[]"
   ]
  },
  {
   "cell_type": "code",
   "execution_count": 0,
   "metadata": {
    "application/vnd.databricks.v1+cell": {
     "cellMetadata": {
      "byteLimit": 2048000,
      "rowLimit": 10000
     },
     "inputWidgets": {},
     "nuid": "230e7d36-e627-4be7-a90e-23c471580d25",
     "showTitle": false,
     "tableResultSettingsMap": {},
     "title": ""
    }
   },
   "outputs": [],
   "source": [
    "pair_udf = udf(generate_pairs, ArrayType(StructType([StructField(\"_1\", StringType()),\n",
    "                                                     StructField(\"_2\", StringType())])))"
   ]
  },
  {
   "cell_type": "code",
   "execution_count": 0,
   "metadata": {
    "application/vnd.databricks.v1+cell": {
     "cellMetadata": {
      "byteLimit": 2048000,
      "rowLimit": 10000
     },
     "inputWidgets": {},
     "nuid": "f840d0ae-3c96-4b9a-92c4-375e905f491d",
     "showTitle": false,
     "tableResultSettingsMap": {},
     "title": ""
    }
   },
   "outputs": [],
   "source": [
    "# dftest =dforders.withColumn(\"pairs\", pair_udf(\"products\")).select(explode(\"pairs\").alias(\"pair\"))\n",
    "# dftest.show()"
   ]
  },
  {
   "cell_type": "code",
   "execution_count": 0,
   "metadata": {
    "application/vnd.databricks.v1+cell": {
     "cellMetadata": {
      "byteLimit": 2048000,
      "rowLimit": 10000
     },
     "inputWidgets": {},
     "nuid": "020dee18-fdb3-4d15-bb7a-65bb0cd74cfa",
     "showTitle": false,
     "tableResultSettingsMap": {},
     "title": ""
    }
   },
   "outputs": [
    {
     "output_type": "stream",
     "name": "stdout",
     "output_type": "stream",
     "text": [
      "+---------+---------+\n|product_1|product_2|\n+---------+---------+\n|     P002|     P003|\n|     P001|     P002|\n|     P001|     P003|\n|     P001|     P002|\n|     P001|     P003|\n+---------+---------+\n\n"
     ]
    }
   ],
   "source": [
    "dfpair=dforders.withColumn(\"pairs\", pair_udf(\"products\")).select(explode(\"pairs\").alias(\"pair\"))\n",
    "dfpair=dfpair.select(col(\"pair._1\").alias(\"product_1\"), col(\"pair._2\").alias(\"product_2\"))`\n",
    "dfpair.show()"
   ]
  },
  {
   "cell_type": "code",
   "execution_count": 0,
   "metadata": {
    "application/vnd.databricks.v1+cell": {
     "cellMetadata": {
      "byteLimit": 2048000,
      "rowLimit": 10000
     },
     "inputWidgets": {},
     "nuid": "da3dc984-5b1f-47d2-a5d9-5e0a234f378d",
     "showTitle": false,
     "tableResultSettingsMap": {},
     "title": ""
    }
   },
   "outputs": [],
   "source": [
    "dfresult=dfpair\\\n",
    "        .withColumn(\"product_pair\",struct(col(\"product_1\"), col(\"product_2\")))\\\n",
    "            .groupBy(\"product_1\", \"product_2\").agg(count(\"*\").alias(\"count\")).orderBy(col(\"count\")\\\n",
    "                .desc())\n",
    "# dfresult.show()"
   ]
  },
  {
   "cell_type": "code",
   "execution_count": 0,
   "metadata": {
    "application/vnd.databricks.v1+cell": {
     "cellMetadata": {
      "byteLimit": 2048000,
      "rowLimit": 10000
     },
     "inputWidgets": {},
     "nuid": "9a367c74-797a-4a39-8f67-57ca58bc5e86",
     "showTitle": false,
     "tableResultSettingsMap": {},
     "title": ""
    }
   },
   "outputs": [
    {
     "output_type": "stream",
     "name": "stdout",
     "output_type": "stream",
     "text": [
      "+-----+------------+\n|count|product_pair|\n+-----+------------+\n|    2|{P001, P003}|\n|    2|{P001, P002}|\n|    1|{P002, P003}|\n+-----+------------+\n\n"
     ]
    }
   ],
   "source": [
    "dfresult = dfresult.withColumn(\"product_pair\",struct(col(\"product_1\"), col(\"product_2\"))).drop(col(\"product_1\"), col(\"product_2\"))\n",
    "dfresult.show()"
   ]
  }
 ],
 "metadata": {
  "application/vnd.databricks.v1+notebook": {
   "computePreferences": null,
   "dashboards": [],
   "environmentMetadata": {
    "base_environment": "",
    "environment_version": "1"
   },
   "inputWidgetPreferences": null,
   "language": "python",
   "notebookMetadata": {
    "pythonIndentUnit": 4
   },
   "notebookName": "ecom style proposal",
   "widgets": {}
  }
 },
 "nbformat": 4,
 "nbformat_minor": 0
}