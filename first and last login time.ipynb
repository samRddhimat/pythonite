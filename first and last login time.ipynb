{
 "cells": [
  {
   "cell_type": "code",
   "execution_count": 0,
   "metadata": {
    "application/vnd.databricks.v1+cell": {
     "cellMetadata": {
      "byteLimit": 2048000,
      "rowLimit": 10000
     },
     "inputWidgets": {},
     "nuid": "4a3caee2-4ad7-4e5d-b743-213e43b79204",
     "showTitle": false,
     "tableResultSettingsMap": {},
     "title": ""
    }
   },
   "outputs": [
    {
     "output_type": "stream",
     "name": "stdout",
     "output_type": "stream",
     "text": [
      "2024-03-10 09:30:00\n"
     ]
    }
   ],
   "source": [
    "from pyspark.sql.types import StructType,StructField, StringType, DateType, TimestampType\n",
    "from pyspark.sql.functions import to_timestamp,col, min, max\n",
    "\n",
    "print(datetime.strptime('2024-03-10 09:30:00','%Y-%m-%d %H:%M:%S'))\n",
    "# print(to_timestamp(2024 03 10 8 30 50))"
   ]
  },
  {
   "cell_type": "code",
   "execution_count": 0,
   "metadata": {
    "application/vnd.databricks.v1+cell": {
     "cellMetadata": {
      "byteLimit": 2048000,
      "rowLimit": 10000
     },
     "inputWidgets": {},
     "nuid": "adfbcfc2-2f94-4520-9b52-5f1257c846c1",
     "showTitle": false,
     "tableResultSettingsMap": {},
     "title": ""
    }
   },
   "outputs": [
    {
     "output_type": "stream",
     "name": "stdout",
     "output_type": "stream",
     "text": [
      "+-------+-------------------+\n|user_id|          salesdate|\n+-------+-------------------+\n|   U001|2024-03-10 08:30:50|\n|   U002|2024-03-10 09:30:00|\n|   U001|2024-03-10 12:45:00|\n|   U002|2024-03-10 14:00:00|\n|   U003|2024-03-10 11:15:00|\n|   U001|2024-03-10 18:30:00|\n|   U003|2024-03-10 22:00:00|\n+-------+-------------------+\n\n"
     ]
    }
   ],
   "source": [
    "\n",
    "log_schema = StructType([ \\\n",
    "    StructField(\"user_id\",StringType(),True), \\\n",
    "    StructField(\"sale_date\",StringType(),True)\n",
    "  ])\n",
    "  \n",
    "log_data = [\n",
    "('U001',\"2024-03-10 08:30:50\"),\n",
    "('U002','2024-03-10 09:30:00'),\n",
    "('U001','2024-03-10 12:45:00'),\n",
    "('U002','2024-03-10 14:00:00'),\n",
    "('U003','2024-03-10 11:15:00'),\n",
    "('U001','2024-03-10 18:30:00'),\n",
    "('U003','2024-03-10 22:00:00')\n",
    "]\n",
    "\n",
    "dflogs = spark.createDataFrame(log_data,log_schema)\n",
    "\n",
    "dflogs=dflogs.withColumn(\"salesdate\", col(\"sale_date\").cast(\"timestamp\")).drop(\"sale_date\")\n",
    "dflogs.show()"
   ]
  },
  {
   "cell_type": "code",
   "execution_count": 0,
   "metadata": {
    "application/vnd.databricks.v1+cell": {
     "cellMetadata": {
      "byteLimit": 2048000,
      "rowLimit": 10000
     },
     "inputWidgets": {},
     "nuid": "12361dea-c18a-4797-95d5-00833001cae8",
     "showTitle": false,
     "tableResultSettingsMap": {},
     "title": ""
    }
   },
   "outputs": [
    {
     "output_type": "stream",
     "name": "stdout",
     "output_type": "stream",
     "text": [
      "+-------+-------------------+-------------------+\n|user_id|        first_login|         last_login|\n+-------+-------------------+-------------------+\n|   U001|2024-03-10 08:30:50|2024-03-10 18:30:00|\n|   U002|2024-03-10 09:30:00|2024-03-10 14:00:00|\n|   U003|2024-03-10 11:15:00|2024-03-10 22:00:00|\n+-------+-------------------+-------------------+\n\n"
     ]
    }
   ],
   "source": [
    "dflogs.groupby(\"user_id\").agg(min(\"salesdate\").alias(\"first_login\"), max(\"salesdate\").alias(\"last_login\")).show()"
   ]
  }
 ],
 "metadata": {
  "application/vnd.databricks.v1+notebook": {
   "computePreferences": null,
   "dashboards": [],
   "environmentMetadata": {
    "base_environment": "",
    "environment_version": "1"
   },
   "inputWidgetPreferences": null,
   "language": "python",
   "notebookMetadata": {
    "pythonIndentUnit": 4
   },
   "notebookName": "first and last login time",
   "widgets": {}
  }
 },
 "nbformat": 4,
 "nbformat_minor": 0
}