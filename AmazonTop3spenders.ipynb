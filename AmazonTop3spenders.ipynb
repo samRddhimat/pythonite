{
 "cells": [
  {
   "cell_type": "markdown",
   "metadata": {
    "application/vnd.databricks.v1+cell": {
     "cellMetadata": {},
     "inputWidgets": {},
     "nuid": "284c87b0-9910-4365-86be-f1d596c96d49",
     "showTitle": false,
     "tableResultSettingsMap": {},
     "title": ""
    }
   },
   "source": [
    "### # Top 3 spenders\n",
    "_🔍 Explanation:  \n",
    "**1️⃣ We group by `customer_id` and calculate the sum of `transaction_amount` for each customer.  \n",
    "2️⃣ We order the results by `total_spent` in descending order.  \n",
    "3️⃣ We limit the output to the top 3 customers based on spending.  \n",
    "**_"
   ]
  },
  {
   "cell_type": "code",
   "execution_count": 0,
   "metadata": {
    "application/vnd.databricks.v1+cell": {
     "cellMetadata": {
      "byteLimit": 2048000,
      "rowLimit": 10000
     },
     "inputWidgets": {},
     "nuid": "35b8cae7-3f78-4e36-9a3f-cb51e3db5fdf",
     "showTitle": false,
     "tableResultSettingsMap": {},
     "title": ""
    }
   },
   "outputs": [
    {
     "output_type": "stream",
     "name": "stdout",
     "output_type": "stream",
     "text": [
      "+-----------+------------------+\n|customer_id|transaction_amount|\n+-----------+------------------+\n|       C001|             500.0|\n|       C002|            1000.0|\n|       C003|             750.0|\n|       C001|             300.0|\n|       C002|             500.0|\n|       C003|             250.0|\n|       C004|             200.0|\n+-----------+------------------+\n\n"
     ]
    }
   ],
   "source": [
    "from pyspark.sql.types import StructType, StructField, StringType, FloatType\n",
    "from pyspark.sql.functions import col, lower,sum, desc\n",
    "\n",
    "sch_tran = StructType([StructField(\"customer_id\",StringType(),True),\n",
    "\t\t\t\t\t  StructField(\"transaction_amount\",FloatType(), True)])\n",
    "\n",
    "lst_tran=[('C001',500.0  ), ('C002',1000.0 ),('C003',750.0  ),('C001',300.0  ),('C002',500.0  ),('C003',250.0  ),('C004',200.0 )]\n",
    "\n",
    "dftran = spark.createDataFrame(lst_tran, sch_tran)\n",
    "\n",
    "dftran.show()"
   ]
  },
  {
   "cell_type": "code",
   "execution_count": 0,
   "metadata": {
    "application/vnd.databricks.v1+cell": {
     "cellMetadata": {
      "byteLimit": 2048000,
      "rowLimit": 10000
     },
     "inputWidgets": {},
     "nuid": "45bf2c62-f3d4-49c9-aa8d-1d0e906d19fa",
     "showTitle": false,
     "tableResultSettingsMap": {},
     "title": ""
    }
   },
   "outputs": [
    {
     "output_type": "stream",
     "name": "stdout",
     "output_type": "stream",
     "text": [
      "+-----------+-----------+\n|customer_id|total_spent|\n+-----------+-----------+\n|       C002|     1500.0|\n|       C003|     1000.0|\n|       C001|      800.0|\n+-----------+-----------+\n\n"
     ]
    }
   ],
   "source": [
    "dftran.groupBy(\"customer_id\").agg(sum(\"transaction_amount\").alias(\"total_spent\")).orderBy(desc(\"total_spent\")).limit(3).show()"
   ]
  }
 ],
 "metadata": {
  "application/vnd.databricks.v1+notebook": {
   "computePreferences": null,
   "dashboards": [],
   "environmentMetadata": {
    "base_environment": "",
    "environment_version": "1"
   },
   "inputWidgetPreferences": null,
   "language": "python",
   "notebookMetadata": {
    "pythonIndentUnit": 4
   },
   "notebookName": "AmazonTop3spenders",
   "widgets": {}
  }
 },
 "nbformat": 4,
 "nbformat_minor": 0
}