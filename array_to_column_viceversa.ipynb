{
 "cells": [
  {
   "cell_type": "markdown",
   "metadata": {
    "application/vnd.databricks.v1+cell": {
     "cellMetadata": {},
     "inputWidgets": {},
     "nuid": "d6b8ff20-c728-41a4-a970-18fc2dfbfd9d",
     "showTitle": false,
     "title": ""
    }
   },
   "source": [
    "\n",
    "### convert array data into column"
   ]
  },
  {
   "cell_type": "code",
   "execution_count": 0,
   "metadata": {
    "application/vnd.databricks.v1+cell": {
     "cellMetadata": {
      "byteLimit": 2048000,
      "implicitDf": true,
      "rowLimit": 10000
     },
     "inputWidgets": {},
     "nuid": "b08323bf-7a30-4dbf-b908-b5e57366f15e",
     "showTitle": false,
     "title": ""
    }
   },
   "outputs": [
    {
     "output_type": "stream",
     "name": "stdout",
     "output_type": "stream",
     "text": [
      "+---+--------------------+\n| id|              matrix|\n+---+--------------------+\n|  1|[[1, 2, 3], [4, 5...|\n|  2|[[10, 11, 20], [1...|\n|  3|[[7, 8, 9], [5, 5...|\n+---+--------------------+\n\n"
     ]
    }
   ],
   "source": [
    "# data = [\n",
    "#     (1, [[1, 2, 3], [4, 5, 6], [7, 8, 9]]),\n",
    "#     (2, [[10, 11], [12, 13, 14]]),\n",
    "#     (3, [])\n",
    "# ]\n",
    "import pyspark.sql.functions as f\n",
    "data = [\n",
    "    (1, [[1, 2, 3], [4, 5, 6]]),\n",
    "    (2, [[10, 11,20], [12, 13, 14]]),\n",
    "    (3, [[7, 8, 9], [5,555,999]])\n",
    "]\n",
    "\n",
    "df1 = spark.createDataFrame(data = data, schema = [\"id\",\"matrix\"])\n",
    "\n",
    "df1.show()\n"
   ]
  },
  {
   "cell_type": "code",
   "execution_count": 0,
   "metadata": {
    "application/vnd.databricks.v1+cell": {
     "cellMetadata": {
      "byteLimit": 2048000,
      "rowLimit": 10000
     },
     "inputWidgets": {},
     "nuid": "973b63f6-701f-45c5-b56a-b85bb85d84eb",
     "showTitle": false,
     "title": ""
    }
   },
   "outputs": [
    {
     "output_type": "stream",
     "name": "stdout",
     "output_type": "stream",
     "text": [
      "+---+--------------------+-------------+\n| id|              matrix|  inner_array|\n+---+--------------------+-------------+\n|  1|[[1, 2, 3], [4, 5...|    [1, 2, 3]|\n|  1|[[1, 2, 3], [4, 5...|    [4, 5, 6]|\n|  2|[[10, 11, 20], [1...| [10, 11, 20]|\n|  2|[[10, 11, 20], [1...| [12, 13, 14]|\n|  3|[[7, 8, 9], [5, 5...|    [7, 8, 9]|\n|  3|[[7, 8, 9], [5, 5...|[5, 555, 999]|\n+---+--------------------+-------------+\n\n"
     ]
    }
   ],
   "source": [
    "df_outer_explode = df1.withColumn(\"inner_array\",f.explode(df1.matrix))\n",
    "df_outer_explode.show()"
   ]
  },
  {
   "cell_type": "code",
   "execution_count": 0,
   "metadata": {
    "application/vnd.databricks.v1+cell": {
     "cellMetadata": {
      "byteLimit": 2048000,
      "rowLimit": 10000
     },
     "inputWidgets": {},
     "nuid": "d83ad4d3-6b82-44ae-86b1-8f47b2c07448",
     "showTitle": false,
     "title": ""
    }
   },
   "outputs": [
    {
     "output_type": "stream",
     "name": "stdout",
     "output_type": "stream",
     "text": [
      "+---+--------------------+-----------+\n| id|              matrix|inner_array|\n+---+--------------------+-----------+\n|  1|[[1, 2, 3], [4, 5...|          1|\n|  1|[[1, 2, 3], [4, 5...|          2|\n|  1|[[1, 2, 3], [4, 5...|          3|\n|  1|[[1, 2, 3], [4, 5...|          4|\n|  1|[[1, 2, 3], [4, 5...|          5|\n|  1|[[1, 2, 3], [4, 5...|          6|\n|  2|[[10, 11, 20], [1...|         10|\n|  2|[[10, 11, 20], [1...|         11|\n|  2|[[10, 11, 20], [1...|         20|\n|  2|[[10, 11, 20], [1...|         12|\n|  2|[[10, 11, 20], [1...|         13|\n|  2|[[10, 11, 20], [1...|         14|\n|  3|[[7, 8, 9], [5, 5...|          7|\n|  3|[[7, 8, 9], [5, 5...|          8|\n|  3|[[7, 8, 9], [5, 5...|          9|\n|  3|[[7, 8, 9], [5, 5...|          5|\n|  3|[[7, 8, 9], [5, 5...|        555|\n|  3|[[7, 8, 9], [5, 5...|        999|\n+---+--------------------+-----------+\n\n"
     ]
    }
   ],
   "source": [
    "df_final = df_outer_explode.withColumn(\"inner_array\",f.explode(df_outer_explode.inner_array))\n",
    "df_final.show()"
   ]
  },
  {
   "cell_type": "markdown",
   "metadata": {
    "application/vnd.databricks.v1+cell": {
     "cellMetadata": {},
     "inputWidgets": {},
     "nuid": "87295a2e-e733-411f-8c2c-bd00c4963771",
     "showTitle": false,
     "title": ""
    }
   },
   "source": [
    "#### club similar id values to single row"
   ]
  },
  {
   "cell_type": "code",
   "execution_count": 0,
   "metadata": {
    "application/vnd.databricks.v1+cell": {
     "cellMetadata": {
      "byteLimit": 2048000,
      "rowLimit": 10000
     },
     "inputWidgets": {},
     "nuid": "fec0c93b-9902-4997-a947-f7f721ac8161",
     "showTitle": false,
     "title": ""
    }
   },
   "outputs": [
    {
     "output_type": "stream",
     "name": "stdout",
     "output_type": "stream",
     "text": [
      "+---+-----------+\n| id|inner_array|\n+---+-----------+\n|  1|          1|\n|  1|          2|\n|  1|          3|\n|  1|          4|\n|  1|          5|\n|  1|          6|\n|  2|         10|\n|  2|         11|\n|  2|         20|\n|  2|         12|\n|  2|         13|\n|  2|         14|\n|  3|          7|\n|  3|          8|\n|  3|          9|\n|  3|          5|\n|  3|        555|\n|  3|        999|\n+---+-----------+\n\n"
     ]
    }
   ],
   "source": [
    "df_new=df_final.drop(\"matrix\")\n",
    "df_new.show()"
   ]
  },
  {
   "cell_type": "code",
   "execution_count": 0,
   "metadata": {
    "application/vnd.databricks.v1+cell": {
     "cellMetadata": {
      "byteLimit": 2048000,
      "rowLimit": 10000
     },
     "inputWidgets": {},
     "nuid": "811254a2-1384-4b29-8100-ab862aaa7e66",
     "showTitle": false,
     "title": ""
    }
   },
   "outputs": [],
   "source": [
    "df_new1= df_new.withColumnRenamed('inner_array','cgpas')#.show()"
   ]
  },
  {
   "cell_type": "code",
   "execution_count": 0,
   "metadata": {
    "application/vnd.databricks.v1+cell": {
     "cellMetadata": {
      "byteLimit": 2048000,
      "rowLimit": 10000
     },
     "inputWidgets": {},
     "nuid": "1a37f9be-df16-4e37-b54c-7e0e6e7a552b",
     "showTitle": false,
     "title": ""
    }
   },
   "outputs": [
    {
     "output_type": "stream",
     "name": "stdout",
     "output_type": "stream",
     "text": [
      "+---+--------------------+\n| id|                cgpa|\n+---+--------------------+\n|  1|  [1, 5, 2, 6, 3, 4]|\n|  3|[999, 9, 5, 7, 55...|\n|  2|[12, 13, 20, 10, ...|\n+---+--------------------+\n\n"
     ]
    }
   ],
   "source": [
    "df_clubbed = df_new1.groupBy(\"id\").agg(f.collect_set(\"cgpas\").alias(\"cgpa\"))\n",
    "\n",
    "df_clubbed.show()"
   ]
  },
  {
   "cell_type": "code",
   "execution_count": 0,
   "metadata": {
    "application/vnd.databricks.v1+cell": {
     "cellMetadata": {
      "byteLimit": 2048000,
      "rowLimit": 10000
     },
     "inputWidgets": {},
     "nuid": "b4384afc-e04e-4564-a518-dd1d8cff9ea0",
     "showTitle": false,
     "title": ""
    }
   },
   "outputs": [],
   "source": [
    "df_clubbed.cache()\n",
    "\n",
    "df_clubbed.createOrReplaceTempView(\"cgpa_list\")"
   ]
  },
  {
   "cell_type": "code",
   "execution_count": 0,
   "metadata": {
    "application/vnd.databricks.v1+cell": {
     "cellMetadata": {
      "byteLimit": 2048000,
      "implicitDf": true,
      "rowLimit": 10000
     },
     "inputWidgets": {},
     "nuid": "a0183413-0068-4bf4-a5f4-8029633b6619",
     "showTitle": false,
     "title": ""
    }
   },
   "outputs": [
    {
     "output_type": "display_data",
     "data": {
      "text/html": [
       "<style scoped>\n",
       "  .table-result-container {\n",
       "    max-height: 300px;\n",
       "    overflow: auto;\n",
       "  }\n",
       "  table, th, td {\n",
       "    border: 1px solid black;\n",
       "    border-collapse: collapse;\n",
       "  }\n",
       "  th, td {\n",
       "    padding: 5px;\n",
       "  }\n",
       "  th {\n",
       "    text-align: left;\n",
       "  }\n",
       "</style><div class='table-result-container'><table class='table-result'><thead style='background-color: white'><tr><th>id</th><th>cgpa</th></tr></thead><tbody><tr><td>1</td><td>List(1, 5, 2, 6, 3, 4)</td></tr><tr><td>3</td><td>List(999, 9, 5, 7, 555, 8)</td></tr><tr><td>2</td><td>List(12, 13, 20, 10, 14, 11)</td></tr></tbody></table></div>"
      ]
     },
     "metadata": {
      "application/vnd.databricks.v1+output": {
       "addedWidgets": {},
       "aggData": [],
       "aggError": "",
       "aggOverflow": false,
       "aggSchema": [],
       "aggSeriesLimitReached": false,
       "aggType": "",
       "arguments": {},
       "columnCustomDisplayInfos": {},
       "data": [
        [
         1,
         [
          1,
          5,
          2,
          6,
          3,
          4
         ]
        ],
        [
         3,
         [
          999,
          9,
          5,
          7,
          555,
          8
         ]
        ],
        [
         2,
         [
          12,
          13,
          20,
          10,
          14,
          11
         ]
        ]
       ],
       "datasetInfos": [],
       "dbfsResultPath": null,
       "isJsonSchema": true,
       "metadata": {},
       "overflow": false,
       "plotOptions": {
        "customPlotOptions": {},
        "displayType": "table",
        "pivotAggregation": null,
        "pivotColumns": null,
        "xColumns": null,
        "yColumns": null
       },
       "removedWidgets": [],
       "schema": [
        {
         "metadata": "{}",
         "name": "id",
         "type": "\"long\""
        },
        {
         "metadata": "{}",
         "name": "cgpa",
         "type": "{\"type\":\"array\",\"elementType\":\"long\",\"containsNull\":false}"
        }
       ],
       "type": "table"
      }
     },
     "output_type": "display_data"
    }
   ],
   "source": [
    "%sql\n",
    "select id, (cgpa) from cgpa_list"
   ]
  }
 ],
 "metadata": {
  "application/vnd.databricks.v1+notebook": {
   "dashboards": [],
   "environmentMetadata": null,
   "language": "python",
   "notebookMetadata": {
    "mostRecentlyExecutedCommandWithImplicitDF": {
     "commandId": 2959566167470405,
     "dataframes": [
      "_sqldf"
     ]
    },
    "pythonIndentUnit": 4
   },
   "notebookName": "array_to_column_viceversa",
   "widgets": {}
  }
 },
 "nbformat": 4,
 "nbformat_minor": 0
}
