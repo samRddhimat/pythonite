{
 "cells": [
  {
   "cell_type": "code",
   "execution_count": 0,
   "metadata": {
    "application/vnd.databricks.v1+cell": {
     "cellMetadata": {
      "byteLimit": 2048000,
      "rowLimit": 10000
     },
     "inputWidgets": {},
     "nuid": "b1a5c679-2a41-4baa-9d10-06d8552cfd22",
     "showTitle": false,
     "title": ""
    }
   },
   "outputs": [
    {
     "output_type": "stream",
     "name": "stdout",
     "output_type": "stream",
     "text": [
      "+------+----------+---------+---------+\n|row_id|     cr_dt|entry_val|file_path|\n+------+----------+---------+---------+\n|     0|2026-01-29|       88|         |\n|     1|2026-01-29|       71|         |\n|     2|2026-01-29|       12|         |\n|     3|2026-01-29|       61|         |\n|     4|2026-01-29|        8|         |\n|     5|2026-01-29|       75|         |\n|     6|2026-01-29|       84|         |\n|     7|2026-01-29|       29|         |\n|     8|2026-01-29|       13|         |\n|     9|2026-01-29|       80|         |\n|    10|2026-01-29|        6|         |\n|    11|2026-01-29|       75|         |\n|    12|2026-01-29|       52|         |\n|    13|2026-01-29|       34|         |\n|    14|2026-01-29|       36|         |\n|    15|2026-01-29|       20|         |\n|    16|2026-01-29|        1|         |\n|    17|2026-01-29|       52|         |\n|    18|2026-01-29|       96|         |\n|    19|2026-01-29|        6|         |\n+------+----------+---------+---------+\nonly showing top 20 rows\n\n"
     ]
    },
    {
     "output_type": "display_data",
     "data": {
      "text/html": [
       "<style scoped>\n",
       "  .ansiout {\n",
       "    display: block;\n",
       "    unicode-bidi: embed;\n",
       "    white-space: pre-wrap;\n",
       "    word-wrap: break-word;\n",
       "    word-break: break-all;\n",
       "    font-family: \"Menlo\", \"Monaco\", \"Consolas\", \"Ubuntu Mono\", \"Source Code Pro\", monospace;\n",
       "    font-size: 13px;\n",
       "    color: #555;\n",
       "    margin-left: 4px;\n",
       "    line-height: 19px;\n",
       "  }\n",
       "</style>"
      ]
     },
     "metadata": {
      "application/vnd.databricks.v1+output": {
       "arguments": {},
       "data": "",
       "errorSummary": "",
       "errorTraceType": null,
       "metadata": {},
       "type": "ipynbError"
      }
     },
     "output_type": "display_data"
    }
   ],
   "source": [
    "import random\n",
    "import math\n",
    "from pyspark.sql.functions import input_file_name\n",
    "\n",
    "\n",
    "# print(sqlfn.floor(sqlfn.rand(42)))\n",
    "# print(math.floor(random.randint(1, 100)))\n",
    "\n",
    "# sqlfn.floor(sqlfn.rand(42)).toDF().show()\n",
    "# spark.range(5).collect()\n",
    "\n",
    "x = spark.range(0,10000) \\\n",
    "    .withColumn('cr_dt', sqlfn.date_add(sqlfn.current_date(), random.randint(1, 100) *random.randint(5, 30) ) ) \\\n",
    "    .withColumn('entry_val',sqlfn.floor(sqlfn.rand()*100))\\\n",
    "    .withColumn('file_path',input_file_name())\\ # for this to work set groupFiles = 'none'\n",
    "        .toDF(\"row_id\",\"cr_dt\",\"entry_val\",\"file_path\")\n",
    "        \n",
    "x.show()\n",
    "# print(input_file_name())\n",
    "x.write.mode('overwrite').parquet(input_file_name())"
   ]
  }
 ],
 "metadata": {
  "application/vnd.databricks.v1+notebook": {
   "dashboards": [],
   "environmentMetadata": null,
   "language": "python",
   "notebookMetadata": {
    "pythonIndentUnit": 4
   },
   "notebookName": "Test_Data_Creation",
   "widgets": {}
  }
 },
 "nbformat": 4,
 "nbformat_minor": 0
}
