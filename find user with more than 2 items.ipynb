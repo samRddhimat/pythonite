{
 "cells": [
  {
   "cell_type": "code",
   "execution_count": 0,
   "metadata": {
    "application/vnd.databricks.v1+cell": {
     "cellMetadata": {
      "byteLimit": 2048000,
      "rowLimit": 10000
     },
     "inputWidgets": {},
     "nuid": "f5f94311-c30f-4703-8fc6-f91ebb4846f9",
     "showTitle": false,
     "tableResultSettingsMap": {},
     "title": ""
    }
   },
   "outputs": [
    {
     "output_type": "stream",
     "name": "stdout",
     "output_type": "stream",
     "text": [
      "+-------+------------+\n|user_id|product_name|\n+-------+------------+\n|      1|       Shirt|\n|      1|        Pant|\n|      1|       Shoes|\n|      2|       Shirt|\n|      3|        Pant|\n|      4|        Pant|\n|      4|       Shirt|\n|      5|       Shoes|\n+-------+------------+\n\n"
     ]
    }
   ],
   "source": [
    "from pyspark.sql.types import StructType, StructField, StringType, IntegerType\n",
    "from pyspark.sql.functions import col, lower\n",
    "\n",
    "sch_tran = StructType([\n",
    "    StructField(\"user_id\",IntegerType(),True), StructField(\"product_name\",StringType(), True)\n",
    "       ])\n",
    "\t\t\t\n",
    "lst_tran = [(1, 'Shirt'),\n",
    "(1, 'Pant'), (1, 'Shoes'), (2, 'Shirt'), (3, 'Pant'), (4, 'Pant'), (4, 'Shirt'), (5, 'Shoes')] \n",
    "\n",
    "df_trans = spark.createDataFrame(lst_tran,sch_tran)\n",
    "df_trans.show()\n"
   ]
  },
  {
   "cell_type": "code",
   "execution_count": 0,
   "metadata": {
    "application/vnd.databricks.v1+cell": {
     "cellMetadata": {
      "byteLimit": 2048000,
      "rowLimit": 10000
     },
     "inputWidgets": {},
     "nuid": "489051e9-277b-44ab-b1dd-9ece70813401",
     "showTitle": false,
     "tableResultSettingsMap": {},
     "title": ""
    }
   },
   "outputs": [
    {
     "output_type": "stream",
     "name": "stdout",
     "output_type": "stream",
     "text": [
      "+-------+-------------+\n|user_id|product_count|\n+-------+-------------+\n|      1|            3|\n|      2|            1|\n|      3|            1|\n|      4|            2|\n|      5|            1|\n+-------+-------------+\n\n"
     ]
    }
   ],
   "source": [
    "from pyspark.sql.functions import count\n",
    "\n",
    "# df_trans.select(col(\"product_name\").isin('Shirt','Pant') ).show()\n",
    "agg= df_trans.groupby(\"user_id\").agg(count(\"product_name\").alias(\"product_count\"))\n",
    "agg.show()\n",
    "agg=agg.filter('product_count >= 2')\n",
    "\n",
    "                                     "
   ]
  },
  {
   "cell_type": "code",
   "execution_count": 0,
   "metadata": {
    "application/vnd.databricks.v1+cell": {
     "cellMetadata": {
      "byteLimit": 2048000,
      "rowLimit": 10000
     },
     "inputWidgets": {},
     "nuid": "b16455c0-7e50-435f-9622-d3291af7b453",
     "showTitle": false,
     "tableResultSettingsMap": {},
     "title": ""
    }
   },
   "outputs": [
    {
     "output_type": "stream",
     "name": "stdout",
     "output_type": "stream",
     "text": [
      "+-------+\n|user_id|\n+-------+\n|      1|\n|      4|\n+-------+\n\n"
     ]
    }
   ],
   "source": [
    "# agg.select(\"user_id\").orderBy(col(\"product_count\").desc()).show()\n",
    "agg.select(\"user_id\").show()"
   ]
  }
 ],
 "metadata": {
  "application/vnd.databricks.v1+notebook": {
   "computePreferences": null,
   "dashboards": [],
   "environmentMetadata": {
    "base_environment": "",
    "environment_version": "1"
   },
   "inputWidgetPreferences": null,
   "language": "python",
   "notebookMetadata": {
    "pythonIndentUnit": 4
   },
   "notebookName": "find user with more than 2 items",
   "widgets": {}
  }
 },
 "nbformat": 4,
 "nbformat_minor": 0
}